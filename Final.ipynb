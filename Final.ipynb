{
  "nbformat": 4,
  "nbformat_minor": 0,
  "metadata": {
    "colab": {
      "name": "Final.ipynb",
      "provenance": [],
      "collapsed_sections": []
    },
    "kernelspec": {
      "name": "python3",
      "display_name": "Python 3"
    },
    "language_info": {
      "name": "python"
    }
  },
  "cells": [
    {
      "cell_type": "markdown",
      "metadata": {
        "id": "H30hQuKiF4lP"
      },
      "source": [
        "###Importing Libraries"
      ]
    },
    {
      "cell_type": "code",
      "metadata": {
        "id": "7V5aEReLZ_CA"
      },
      "source": [
        "import numpy as np\n",
        "import pandas as pd\n",
        "import matplotlib.pyplot as plt \n",
        "import seaborn as sns"
      ],
      "execution_count": 1,
      "outputs": []
    },
    {
      "cell_type": "markdown",
      "metadata": {
        "id": "Hm39PwGDF8-c"
      },
      "source": [
        "###Analysis of Billboard Charts"
      ]
    },
    {
      "cell_type": "markdown",
      "metadata": {
        "id": "aSuFPdF5Xs9e"
      },
      "source": [
        "First, I import the dataset and look to see what metrics are included, how large it is, etc."
      ]
    },
    {
      "cell_type": "code",
      "metadata": {
        "colab": {
          "base_uri": "https://localhost:8080/",
          "height": 306
        },
        "id": "NM-OSLD7ag_b",
        "outputId": "fab56750-47ab-470f-bad2-ae66d4c2207f"
      },
      "source": [
        "charts = pd.read_csv('charts.csv')\n",
        "charts.tail(5)"
      ],
      "execution_count": 3,
      "outputs": [
        {
          "output_type": "execute_result",
          "data": {
            "text/html": [
              "<div>\n",
              "<style scoped>\n",
              "    .dataframe tbody tr th:only-of-type {\n",
              "        vertical-align: middle;\n",
              "    }\n",
              "\n",
              "    .dataframe tbody tr th {\n",
              "        vertical-align: top;\n",
              "    }\n",
              "\n",
              "    .dataframe thead th {\n",
              "        text-align: right;\n",
              "    }\n",
              "</style>\n",
              "<table border=\"1\" class=\"dataframe\">\n",
              "  <thead>\n",
              "    <tr style=\"text-align: right;\">\n",
              "      <th></th>\n",
              "      <th>date</th>\n",
              "      <th>rank</th>\n",
              "      <th>song</th>\n",
              "      <th>artist</th>\n",
              "      <th>last-week</th>\n",
              "      <th>peak-rank</th>\n",
              "      <th>weeks-on-board</th>\n",
              "    </tr>\n",
              "  </thead>\n",
              "  <tbody>\n",
              "    <tr>\n",
              "      <th>327382</th>\n",
              "      <td>2021-05-01</td>\n",
              "      <td>96</td>\n",
              "      <td>Go!</td>\n",
              "      <td>Moneybagg Yo Featuring BIG30</td>\n",
              "      <td>NaN</td>\n",
              "      <td>96</td>\n",
              "      <td>1</td>\n",
              "    </tr>\n",
              "    <tr>\n",
              "      <th>327383</th>\n",
              "      <td>2021-05-01</td>\n",
              "      <td>97</td>\n",
              "      <td>Drankin N Smokin</td>\n",
              "      <td>Future &amp; Lil Uzi Vert</td>\n",
              "      <td>NaN</td>\n",
              "      <td>31</td>\n",
              "      <td>12</td>\n",
              "    </tr>\n",
              "    <tr>\n",
              "      <th>327384</th>\n",
              "      <td>2021-05-01</td>\n",
              "      <td>98</td>\n",
              "      <td>Monsters</td>\n",
              "      <td>All Time Low Featuring Demi Lovato &amp; blackbear</td>\n",
              "      <td>95.0</td>\n",
              "      <td>55</td>\n",
              "      <td>17</td>\n",
              "    </tr>\n",
              "    <tr>\n",
              "      <th>327385</th>\n",
              "      <td>2021-05-01</td>\n",
              "      <td>99</td>\n",
              "      <td>Slatty</td>\n",
              "      <td>Young Thug &amp; Gunna Featuring Yak Gotti &amp; Lil Duke</td>\n",
              "      <td>NaN</td>\n",
              "      <td>99</td>\n",
              "      <td>1</td>\n",
              "    </tr>\n",
              "    <tr>\n",
              "      <th>327386</th>\n",
              "      <td>2021-05-01</td>\n",
              "      <td>100</td>\n",
              "      <td>4 Da Gang</td>\n",
              "      <td>42 Dugg &amp; Roddy Ricch</td>\n",
              "      <td>84.0</td>\n",
              "      <td>67</td>\n",
              "      <td>3</td>\n",
              "    </tr>\n",
              "  </tbody>\n",
              "</table>\n",
              "</div>"
            ],
            "text/plain": [
              "              date  rank  ... peak-rank weeks-on-board\n",
              "327382  2021-05-01    96  ...        96              1\n",
              "327383  2021-05-01    97  ...        31             12\n",
              "327384  2021-05-01    98  ...        55             17\n",
              "327385  2021-05-01    99  ...        99              1\n",
              "327386  2021-05-01   100  ...        67              3\n",
              "\n",
              "[5 rows x 7 columns]"
            ]
          },
          "metadata": {
            "tags": []
          },
          "execution_count": 3
        }
      ]
    },
    {
      "cell_type": "markdown",
      "metadata": {
        "id": "bMSZ4X5NX3Br"
      },
      "source": [
        "My first question was: How long do number one songs usually stay on the board?\n",
        "\n",
        "\n",
        "\n"
      ]
    },
    {
      "cell_type": "code",
      "metadata": {
        "colab": {
          "base_uri": "https://localhost:8080/"
        },
        "id": "02dpTbDTDgTa",
        "outputId": "2313c7bf-f9e7-4c4f-ed19-3bbe31707ee0"
      },
      "source": [
        "one = charts[charts['rank'] == 1]\n",
        "one_length = one.groupby('artist')['weeks-on-board'].mean()\n",
        "one_length.mean()"
      ],
      "execution_count": 12,
      "outputs": [
        {
          "output_type": "execute_result",
          "data": {
            "text/plain": [
              "10.554077378429051"
            ]
          },
          "metadata": {
            "tags": []
          },
          "execution_count": 12
        }
      ]
    },
    {
      "cell_type": "markdown",
      "metadata": {
        "id": "Ha4SFgLEYU1R"
      },
      "source": [
        "**The average number of weeks a number one song stayed on the board was approximately 10.55**"
      ]
    },
    {
      "cell_type": "markdown",
      "metadata": {
        "id": "oqaerQeDYOh7"
      },
      "source": [
        "My next question was: Which songs stayed at number one the longest?"
      ]
    },
    {
      "cell_type": "code",
      "metadata": {
        "colab": {
          "base_uri": "https://localhost:8080/",
          "height": 576
        },
        "id": "jUIfFvf0EMQZ",
        "outputId": "ae680b2f-e33f-433d-d3b6-608419e5a4e5"
      },
      "source": [
        "lengthy = charts[charts['weeks-on-board'] > 75]\n",
        "lengthy"
      ],
      "execution_count": 5,
      "outputs": [
        {
          "output_type": "execute_result",
          "data": {
            "text/html": [
              "<div>\n",
              "<style scoped>\n",
              "    .dataframe tbody tr th:only-of-type {\n",
              "        vertical-align: middle;\n",
              "    }\n",
              "\n",
              "    .dataframe tbody tr th {\n",
              "        vertical-align: top;\n",
              "    }\n",
              "\n",
              "    .dataframe thead th {\n",
              "        text-align: right;\n",
              "    }\n",
              "</style>\n",
              "<table border=\"1\" class=\"dataframe\">\n",
              "  <thead>\n",
              "    <tr style=\"text-align: right;\">\n",
              "      <th></th>\n",
              "      <th>date</th>\n",
              "      <th>rank</th>\n",
              "      <th>song</th>\n",
              "      <th>artist</th>\n",
              "      <th>last-week</th>\n",
              "      <th>peak-rank</th>\n",
              "      <th>weeks-on-board</th>\n",
              "    </tr>\n",
              "  </thead>\n",
              "  <tbody>\n",
              "    <tr>\n",
              "      <th>267034</th>\n",
              "      <td>2009-10-10</td>\n",
              "      <td>48</td>\n",
              "      <td>I'm Yours</td>\n",
              "      <td>Jason Mraz</td>\n",
              "      <td>49.0</td>\n",
              "      <td>6</td>\n",
              "      <td>76</td>\n",
              "    </tr>\n",
              "    <tr>\n",
              "      <th>289809</th>\n",
              "      <td>2014-02-22</td>\n",
              "      <td>23</td>\n",
              "      <td>Radioactive</td>\n",
              "      <td>Imagine Dragons</td>\n",
              "      <td>13.0</td>\n",
              "      <td>3</td>\n",
              "      <td>76</td>\n",
              "    </tr>\n",
              "    <tr>\n",
              "      <th>289912</th>\n",
              "      <td>2014-03-01</td>\n",
              "      <td>26</td>\n",
              "      <td>Radioactive</td>\n",
              "      <td>Imagine Dragons</td>\n",
              "      <td>23.0</td>\n",
              "      <td>3</td>\n",
              "      <td>77</td>\n",
              "    </tr>\n",
              "    <tr>\n",
              "      <th>289926</th>\n",
              "      <td>2014-03-01</td>\n",
              "      <td>40</td>\n",
              "      <td>Sail</td>\n",
              "      <td>AWOLNATION</td>\n",
              "      <td>41.0</td>\n",
              "      <td>17</td>\n",
              "      <td>76</td>\n",
              "    </tr>\n",
              "    <tr>\n",
              "      <th>290013</th>\n",
              "      <td>2014-03-08</td>\n",
              "      <td>27</td>\n",
              "      <td>Radioactive</td>\n",
              "      <td>Imagine Dragons</td>\n",
              "      <td>26.0</td>\n",
              "      <td>3</td>\n",
              "      <td>78</td>\n",
              "    </tr>\n",
              "    <tr>\n",
              "      <th>290027</th>\n",
              "      <td>2014-03-08</td>\n",
              "      <td>41</td>\n",
              "      <td>Sail</td>\n",
              "      <td>AWOLNATION</td>\n",
              "      <td>40.0</td>\n",
              "      <td>17</td>\n",
              "      <td>77</td>\n",
              "    </tr>\n",
              "    <tr>\n",
              "      <th>290113</th>\n",
              "      <td>2014-03-15</td>\n",
              "      <td>27</td>\n",
              "      <td>Radioactive</td>\n",
              "      <td>Imagine Dragons</td>\n",
              "      <td>27.0</td>\n",
              "      <td>3</td>\n",
              "      <td>79</td>\n",
              "    </tr>\n",
              "    <tr>\n",
              "      <th>290127</th>\n",
              "      <td>2014-03-15</td>\n",
              "      <td>41</td>\n",
              "      <td>Sail</td>\n",
              "      <td>AWOLNATION</td>\n",
              "      <td>41.0</td>\n",
              "      <td>17</td>\n",
              "      <td>78</td>\n",
              "    </tr>\n",
              "    <tr>\n",
              "      <th>290217</th>\n",
              "      <td>2014-03-22</td>\n",
              "      <td>31</td>\n",
              "      <td>Radioactive</td>\n",
              "      <td>Imagine Dragons</td>\n",
              "      <td>27.0</td>\n",
              "      <td>3</td>\n",
              "      <td>80</td>\n",
              "    </tr>\n",
              "    <tr>\n",
              "      <th>290231</th>\n",
              "      <td>2014-03-22</td>\n",
              "      <td>45</td>\n",
              "      <td>Sail</td>\n",
              "      <td>AWOLNATION</td>\n",
              "      <td>41.0</td>\n",
              "      <td>17</td>\n",
              "      <td>79</td>\n",
              "    </tr>\n",
              "    <tr>\n",
              "      <th>290319</th>\n",
              "      <td>2014-03-29</td>\n",
              "      <td>33</td>\n",
              "      <td>Radioactive</td>\n",
              "      <td>Imagine Dragons</td>\n",
              "      <td>31.0</td>\n",
              "      <td>3</td>\n",
              "      <td>81</td>\n",
              "    </tr>\n",
              "    <tr>\n",
              "      <th>290419</th>\n",
              "      <td>2014-04-05</td>\n",
              "      <td>33</td>\n",
              "      <td>Radioactive</td>\n",
              "      <td>Imagine Dragons</td>\n",
              "      <td>33.0</td>\n",
              "      <td>3</td>\n",
              "      <td>82</td>\n",
              "    </tr>\n",
              "    <tr>\n",
              "      <th>290523</th>\n",
              "      <td>2014-04-12</td>\n",
              "      <td>37</td>\n",
              "      <td>Radioactive</td>\n",
              "      <td>Imagine Dragons</td>\n",
              "      <td>33.0</td>\n",
              "      <td>3</td>\n",
              "      <td>83</td>\n",
              "    </tr>\n",
              "    <tr>\n",
              "      <th>290625</th>\n",
              "      <td>2014-04-19</td>\n",
              "      <td>39</td>\n",
              "      <td>Radioactive</td>\n",
              "      <td>Imagine Dragons</td>\n",
              "      <td>37.0</td>\n",
              "      <td>3</td>\n",
              "      <td>84</td>\n",
              "    </tr>\n",
              "    <tr>\n",
              "      <th>290728</th>\n",
              "      <td>2014-04-26</td>\n",
              "      <td>42</td>\n",
              "      <td>Radioactive</td>\n",
              "      <td>Imagine Dragons</td>\n",
              "      <td>39.0</td>\n",
              "      <td>3</td>\n",
              "      <td>85</td>\n",
              "    </tr>\n",
              "    <tr>\n",
              "      <th>290834</th>\n",
              "      <td>2014-05-03</td>\n",
              "      <td>48</td>\n",
              "      <td>Radioactive</td>\n",
              "      <td>Imagine Dragons</td>\n",
              "      <td>42.0</td>\n",
              "      <td>3</td>\n",
              "      <td>86</td>\n",
              "    </tr>\n",
              "    <tr>\n",
              "      <th>290935</th>\n",
              "      <td>2014-05-10</td>\n",
              "      <td>49</td>\n",
              "      <td>Radioactive</td>\n",
              "      <td>Imagine Dragons</td>\n",
              "      <td>48.0</td>\n",
              "      <td>3</td>\n",
              "      <td>87</td>\n",
              "    </tr>\n",
              "  </tbody>\n",
              "</table>\n",
              "</div>"
            ],
            "text/plain": [
              "              date  rank         song  ... last-week  peak-rank  weeks-on-board\n",
              "267034  2009-10-10    48    I'm Yours  ...      49.0          6              76\n",
              "289809  2014-02-22    23  Radioactive  ...      13.0          3              76\n",
              "289912  2014-03-01    26  Radioactive  ...      23.0          3              77\n",
              "289926  2014-03-01    40         Sail  ...      41.0         17              76\n",
              "290013  2014-03-08    27  Radioactive  ...      26.0          3              78\n",
              "290027  2014-03-08    41         Sail  ...      40.0         17              77\n",
              "290113  2014-03-15    27  Radioactive  ...      27.0          3              79\n",
              "290127  2014-03-15    41         Sail  ...      41.0         17              78\n",
              "290217  2014-03-22    31  Radioactive  ...      27.0          3              80\n",
              "290231  2014-03-22    45         Sail  ...      41.0         17              79\n",
              "290319  2014-03-29    33  Radioactive  ...      31.0          3              81\n",
              "290419  2014-04-05    33  Radioactive  ...      33.0          3              82\n",
              "290523  2014-04-12    37  Radioactive  ...      33.0          3              83\n",
              "290625  2014-04-19    39  Radioactive  ...      37.0          3              84\n",
              "290728  2014-04-26    42  Radioactive  ...      39.0          3              85\n",
              "290834  2014-05-03    48  Radioactive  ...      42.0          3              86\n",
              "290935  2014-05-10    49  Radioactive  ...      48.0          3              87\n",
              "\n",
              "[17 rows x 7 columns]"
            ]
          },
          "metadata": {
            "tags": []
          },
          "execution_count": 5
        }
      ]
    },
    {
      "cell_type": "markdown",
      "metadata": {
        "id": "jKoBmV1gY4a7"
      },
      "source": [
        "**I'm Yours, Radioactive, and Sail were the only 3 songs to stay on the charts longer than 75 weeks**"
      ]
    },
    {
      "cell_type": "markdown",
      "metadata": {
        "id": "xbN_srYLZSqD"
      },
      "source": [
        "My next question was: How long have this week's 10 most popular song been on the chart?"
      ]
    },
    {
      "cell_type": "code",
      "metadata": {
        "id": "NmQX_r1TEgau"
      },
      "source": [
        "this_week = charts[charts['date'] == '2021-05-01']\n",
        "this_week = this_week.nsmallest(10, 'rank')"
      ],
      "execution_count": 6,
      "outputs": []
    },
    {
      "cell_type": "code",
      "metadata": {
        "colab": {
          "base_uri": "https://localhost:8080/",
          "height": 400
        },
        "id": "rm53jnUtFVo2",
        "outputId": "ba67212d-9d7f-4f68-814d-715d2849e7ff"
      },
      "source": [
        "sns.relplot(x=\"weeks-on-board\", y=\"rank\", hue='song', data=this_week)"
      ],
      "execution_count": 7,
      "outputs": [
        {
          "output_type": "execute_result",
          "data": {
            "text/plain": [
              "<seaborn.axisgrid.FacetGrid at 0x7fda7b799610>"
            ]
          },
          "metadata": {
            "tags": []
          },
          "execution_count": 7
        },
        {
          "output_type": "display_data",
          "data": {
            "image/png": "[encoded data removed]",
            "text/plain": [
              "<Figure size 557x360 with 1 Axes>"
            ]
          },
          "metadata": {
            "tags": [],
            "needs_background": "light"
          }
        }
      ]
    },
    {
      "cell_type": "markdown",
      "metadata": {
        "id": "v_CTJSS7GMz6"
      },
      "source": [
        "###Beyonce's Billboard Data"
      ]
    },
    {
      "cell_type": "markdown",
      "metadata": {
        "id": "iGmMNtfOZfmC"
      },
      "source": [
        "This is where I decided to focus on Beyoncé more specifically. My first question was: How did her top 10 hits perform over time? (In this context top 10 means songs that were ranked 1-10 on the Billboard chart, not her 10 most popular songs)"
      ]
    },
    {
      "cell_type": "code",
      "metadata": {
        "id": "DlS1KkKbgm4L"
      },
      "source": [
        "beyonce = charts[charts['artist'] == 'Beyonce']\n",
        "beyonce10 = beyonce[beyonce['rank'] < 11]"
      ],
      "execution_count": 13,
      "outputs": []
    },
    {
      "cell_type": "code",
      "metadata": {
        "colab": {
          "base_uri": "https://localhost:8080/",
          "height": 1000
        },
        "id": "d-Klo5V0hQV_",
        "outputId": "0c0ccd7c-b42e-4c40-f52f-6cf56710409e"
      },
      "source": [
        "sns.relplot(x=\"weeks-on-board\", y=\"peak-rank\", hue='song', col='song', col_wrap=3, data=beyonce10)"
      ],
      "execution_count": 10,
      "outputs": [
        {
          "output_type": "execute_result",
          "data": {
            "text/plain": [
              "<seaborn.axisgrid.FacetGrid at 0x7fda5f80ee50>"
            ]
          },
          "metadata": {
            "tags": []
          },
          "execution_count": 10
        },
        {
          "output_type": "display_data",
          "data": {
            "image/png": "[encoded data removed]",
            "text/plain": [
              "<Figure size 1272x1080 with 8 Axes>"
            ]
          },
          "metadata": {
            "tags": [],
            "needs_background": "light"
          }
        }
      ]
    },
    {
      "cell_type": "markdown",
      "metadata": {
        "id": "vy4LZlvraA_1"
      },
      "source": [
        "This next chart continues looking at the same question, but with a violin plot so as to better represent the time spent by a certain song at a certain rank."
      ]
    },
    {
      "cell_type": "code",
      "metadata": {
        "colab": {
          "base_uri": "https://localhost:8080/",
          "height": 400
        },
        "id": "xMA8l36A3bI8",
        "outputId": "3046d4a6-b1a6-4568-8ccf-5fc2e98a6b2c"
      },
      "source": [
        "beyonce9 = beyonce[beyonce['rank'] < 10]\n",
        "sns.catplot(x=\"rank\", y=\"song\", kind=\"violin\", data=beyonce9)"
      ],
      "execution_count": 11,
      "outputs": [
        {
          "output_type": "execute_result",
          "data": {
            "text/plain": [
              "<seaborn.axisgrid.FacetGrid at 0x7fda5f215a90>"
            ]
          },
          "metadata": {
            "tags": []
          },
          "execution_count": 11
        },
        {
          "output_type": "display_data",
          "data": {
            "image/png": "[encoded data removed]",
            "text/plain": [
              "<Figure size 360x360 with 1 Axes>"
            ]
          },
          "metadata": {
            "tags": [],
            "needs_background": "light"
          }
        }
      ]
    },
    {
      "cell_type": "markdown",
      "metadata": {
        "id": "Eh0bRNmsab8y"
      },
      "source": [
        "My next question was: Which of Beyoncé's top 10 hits performed the best overall?"
      ]
    },
    {
      "cell_type": "code",
      "metadata": {
        "colab": {
          "base_uri": "https://localhost:8080/"
        },
        "id": "tcdvTwY35_Xr",
        "outputId": "b6bbc7dd-6bcd-4583-cace-3cf22e0b8939"
      },
      "source": [
        "beyonce10.groupby('song')['rank'].mean()"
      ],
      "execution_count": null,
      "outputs": [
        {
          "output_type": "execute_result",
          "data": {
            "text/plain": [
              "song\n",
              "Formation                           10.000000\n",
              "Halo                                 7.625000\n",
              "If I Were A Boy                      5.700000\n",
              "Irreplaceable                        2.437500\n",
              "Me, Myself And I                     6.818182\n",
              "Naughty Girl                         4.818182\n",
              "Single Ladies (Put A Ring On It)     2.538462\n",
              "Sweet Dreams                        10.000000\n",
              "Name: rank, dtype: float64"
            ]
          },
          "metadata": {
            "tags": []
          },
          "execution_count": 98
        }
      ]
    },
    {
      "cell_type": "markdown",
      "metadata": {
        "id": "kav7l6GDaklF"
      },
      "source": [
        "**'Irreplaceable' had the highest average rank, at approximately 2.44**"
      ]
    },
    {
      "cell_type": "markdown",
      "metadata": {
        "id": "kStX5S7Batdf"
      },
      "source": [
        "How did 'Irreplaceable' perform during its time on the Hot 100 chart?"
      ]
    },
    {
      "cell_type": "code",
      "metadata": {
        "colab": {
          "base_uri": "https://localhost:8080/",
          "height": 400
        },
        "id": "5Y3bGXDw9zxV",
        "outputId": "bffc4117-6c80-4f54-92a2-89edb103846b"
      },
      "source": [
        "irreplaceable = beyonce[beyonce['song'] == 'Irreplaceable']\n",
        "sns.relplot(x=\"weeks-on-board\", y=\"rank\", data=irreplaceable)"
      ],
      "execution_count": null,
      "outputs": [
        {
          "output_type": "execute_result",
          "data": {
            "text/plain": [
              "<seaborn.axisgrid.FacetGrid at 0x7f5931e97a50>"
            ]
          },
          "metadata": {
            "tags": []
          },
          "execution_count": 118
        },
        {
          "output_type": "display_data",
          "data": {
            "image/png": "[encoded data removed]",
            "text/plain": [
              "<Figure size 360x360 with 1 Axes>"
            ]
          },
          "metadata": {
            "tags": [],
            "needs_background": "light"
          }
        }
      ]
    },
    {
      "cell_type": "markdown",
      "metadata": {
        "id": "yrINHexLGPtX"
      },
      "source": [
        "###Beyonce's Award Data"
      ]
    },
    {
      "cell_type": "markdown",
      "metadata": {
        "id": "iusAct32b8Rm"
      },
      "source": [
        "First, I import this dataset and look to see what metrics are included, how large it is, etc."
      ]
    },
    {
      "cell_type": "code",
      "metadata": {
        "colab": {
          "base_uri": "https://localhost:8080/",
          "height": 306
        },
        "id": "9YdKdbAEA-GZ",
        "outputId": "82c6dedf-95d4-4bde-a02b-e0724cf51c26"
      },
      "source": [
        "awards = pd.read_csv('Beyonce - Awards.csv')\n",
        "awards.head(5)"
      ],
      "execution_count": null,
      "outputs": [
        {
          "output_type": "execute_result",
          "data": {
            "text/html": [
              "<div>\n",
              "<style scoped>\n",
              "    .dataframe tbody tr th:only-of-type {\n",
              "        vertical-align: middle;\n",
              "    }\n",
              "\n",
              "    .dataframe tbody tr th {\n",
              "        vertical-align: top;\n",
              "    }\n",
              "\n",
              "    .dataframe thead th {\n",
              "        text-align: right;\n",
              "    }\n",
              "</style>\n",
              "<table border=\"1\" class=\"dataframe\">\n",
              "  <thead>\n",
              "    <tr style=\"text-align: right;\">\n",
              "      <th></th>\n",
              "      <th>Song Title /Album Title</th>\n",
              "      <th>Year</th>\n",
              "      <th>Award Institution</th>\n",
              "      <th>Award Category</th>\n",
              "      <th>Award Type</th>\n",
              "      <th>International Award</th>\n",
              "      <th>Result</th>\n",
              "    </tr>\n",
              "  </thead>\n",
              "  <tbody>\n",
              "    <tr>\n",
              "      <th>0</th>\n",
              "      <td>Beyonce</td>\n",
              "      <td>2003</td>\n",
              "      <td>American Music Award</td>\n",
              "      <td>Favorite Soul/R&amp;B Female Artist</td>\n",
              "      <td>Gender &amp; Race</td>\n",
              "      <td>NaN</td>\n",
              "      <td>Nominated</td>\n",
              "    </tr>\n",
              "    <tr>\n",
              "      <th>1</th>\n",
              "      <td>Beyonce</td>\n",
              "      <td>2003</td>\n",
              "      <td>American Music Award</td>\n",
              "      <td>Fan's Choice Award</td>\n",
              "      <td>NaN</td>\n",
              "      <td>NaN</td>\n",
              "      <td>Nominated</td>\n",
              "    </tr>\n",
              "    <tr>\n",
              "      <th>2</th>\n",
              "      <td>*Dangerously in Love*</td>\n",
              "      <td>2003</td>\n",
              "      <td>American Music Award</td>\n",
              "      <td>Favorite Soul/R&amp;B Album</td>\n",
              "      <td>Race</td>\n",
              "      <td>NaN</td>\n",
              "      <td>Nominated</td>\n",
              "    </tr>\n",
              "    <tr>\n",
              "      <th>3</th>\n",
              "      <td>Beyonce</td>\n",
              "      <td>2004</td>\n",
              "      <td>American Music Award</td>\n",
              "      <td>Favorite Soul/R&amp;B Female Artist</td>\n",
              "      <td>Gender &amp; Race</td>\n",
              "      <td>NaN</td>\n",
              "      <td>Nominated</td>\n",
              "    </tr>\n",
              "    <tr>\n",
              "      <th>4</th>\n",
              "      <td>Beyonce</td>\n",
              "      <td>2006</td>\n",
              "      <td>American Music Award</td>\n",
              "      <td>Artist of the Year</td>\n",
              "      <td>NaN</td>\n",
              "      <td>NaN</td>\n",
              "      <td>Nominated</td>\n",
              "    </tr>\n",
              "  </tbody>\n",
              "</table>\n",
              "</div>"
            ],
            "text/plain": [
              "  Song Title /Album Title  Year  ... International Award     Result\n",
              "0                 Beyonce  2003  ...                 NaN  Nominated\n",
              "1                 Beyonce  2003  ...                 NaN  Nominated\n",
              "2   *Dangerously in Love*  2003  ...                 NaN  Nominated\n",
              "3                 Beyonce  2004  ...                 NaN  Nominated\n",
              "4                 Beyonce  2006  ...                 NaN  Nominated\n",
              "\n",
              "[5 rows x 7 columns]"
            ]
          },
          "metadata": {
            "tags": []
          },
          "execution_count": 128
        }
      ]
    },
    {
      "cell_type": "markdown",
      "metadata": {
        "id": "yyMbP9x6b_3G"
      },
      "source": [
        "I narrowed the dataset to show me only the awards 'Irreplaceable' was nominated for."
      ]
    },
    {
      "cell_type": "code",
      "metadata": {
        "colab": {
          "base_uri": "https://localhost:8080/",
          "height": 585
        },
        "id": "9ZPlkYxwwjxL",
        "outputId": "77cf0d7c-09f3-4b96-d1ac-f3d2242a52ea"
      },
      "source": [
        "irreplaceable_awards = awards[awards['Song Title /Album Title'] == 'Irreplaceable']\n",
        "irreplaceable_awards"
      ],
      "execution_count": null,
      "outputs": [
        {
          "output_type": "execute_result",
          "data": {
            "text/html": [
              "<div>\n",
              "<style scoped>\n",
              "    .dataframe tbody tr th:only-of-type {\n",
              "        vertical-align: middle;\n",
              "    }\n",
              "\n",
              "    .dataframe tbody tr th {\n",
              "        vertical-align: top;\n",
              "    }\n",
              "\n",
              "    .dataframe thead th {\n",
              "        text-align: right;\n",
              "    }\n",
              "</style>\n",
              "<table border=\"1\" class=\"dataframe\">\n",
              "  <thead>\n",
              "    <tr style=\"text-align: right;\">\n",
              "      <th></th>\n",
              "      <th>Song Title /Album Title</th>\n",
              "      <th>Year</th>\n",
              "      <th>Award Institution</th>\n",
              "      <th>Award Category</th>\n",
              "      <th>Award Type</th>\n",
              "      <th>International Award</th>\n",
              "      <th>Result</th>\n",
              "    </tr>\n",
              "  </thead>\n",
              "  <tbody>\n",
              "    <tr>\n",
              "      <th>38</th>\n",
              "      <td>Irreplaceable</td>\n",
              "      <td>2008</td>\n",
              "      <td>ASCAP Pop Music Awards</td>\n",
              "      <td>Most Performed Songs</td>\n",
              "      <td>NaN</td>\n",
              "      <td>NaN</td>\n",
              "      <td>Won</td>\n",
              "    </tr>\n",
              "    <tr>\n",
              "      <th>44</th>\n",
              "      <td>Irreplaceable</td>\n",
              "      <td>2007</td>\n",
              "      <td>ASCAP PRS Awards</td>\n",
              "      <td>Most Performed Songs</td>\n",
              "      <td>NaN</td>\n",
              "      <td>NaN</td>\n",
              "      <td>Won</td>\n",
              "    </tr>\n",
              "    <tr>\n",
              "      <th>60</th>\n",
              "      <td>Irreplaceable</td>\n",
              "      <td>2008</td>\n",
              "      <td>ASCAP Rhythm &amp; Soul Music Awards</td>\n",
              "      <td>Award Winning R&amp;B/Hip-Hop Songs</td>\n",
              "      <td>Race</td>\n",
              "      <td>NaN</td>\n",
              "      <td>Won</td>\n",
              "    </tr>\n",
              "    <tr>\n",
              "      <th>93</th>\n",
              "      <td>Irreplaceable</td>\n",
              "      <td>2007</td>\n",
              "      <td>BET Awards</td>\n",
              "      <td>Video of the Year</td>\n",
              "      <td>NaN</td>\n",
              "      <td>NaN</td>\n",
              "      <td>Won</td>\n",
              "    </tr>\n",
              "    <tr>\n",
              "      <th>94</th>\n",
              "      <td>Irreplaceable</td>\n",
              "      <td>2007</td>\n",
              "      <td>BET Awards</td>\n",
              "      <td>Viewers Choice Award</td>\n",
              "      <td>NaN</td>\n",
              "      <td>NaN</td>\n",
              "      <td>Nominated</td>\n",
              "    </tr>\n",
              "    <tr>\n",
              "      <th>298</th>\n",
              "      <td>Irreplaceable</td>\n",
              "      <td>2008</td>\n",
              "      <td>Grammy Awards</td>\n",
              "      <td>Record of the Year</td>\n",
              "      <td>NaN</td>\n",
              "      <td>NaN</td>\n",
              "      <td>Nominated</td>\n",
              "    </tr>\n",
              "    <tr>\n",
              "      <th>412</th>\n",
              "      <td>Irreplaceable</td>\n",
              "      <td>2007</td>\n",
              "      <td>MTV Video Music Awards</td>\n",
              "      <td>Video of the Year</td>\n",
              "      <td>Video</td>\n",
              "      <td>NaN</td>\n",
              "      <td>Nominated</td>\n",
              "    </tr>\n",
              "    <tr>\n",
              "      <th>481</th>\n",
              "      <td>Irreplaceable</td>\n",
              "      <td>2007</td>\n",
              "      <td>NAACP Image Awards</td>\n",
              "      <td>Outstanding Song</td>\n",
              "      <td>NaN</td>\n",
              "      <td>NaN</td>\n",
              "      <td>Nominated</td>\n",
              "    </tr>\n",
              "    <tr>\n",
              "      <th>482</th>\n",
              "      <td>Irreplaceable</td>\n",
              "      <td>2007</td>\n",
              "      <td>NAACP Image Awards</td>\n",
              "      <td>Outstanding Music Video</td>\n",
              "      <td>Video</td>\n",
              "      <td>NaN</td>\n",
              "      <td>Nominated</td>\n",
              "    </tr>\n",
              "    <tr>\n",
              "      <th>521</th>\n",
              "      <td>Irreplaceable</td>\n",
              "      <td>2007</td>\n",
              "      <td>Nickelodeon Kids' Choice Awards</td>\n",
              "      <td>Favorite Song</td>\n",
              "      <td>NaN</td>\n",
              "      <td>NaN</td>\n",
              "      <td>Won</td>\n",
              "    </tr>\n",
              "    <tr>\n",
              "      <th>534</th>\n",
              "      <td>Irreplaceable</td>\n",
              "      <td>2008</td>\n",
              "      <td>People's Choice</td>\n",
              "      <td>Favorite Pop Song</td>\n",
              "      <td>NaN</td>\n",
              "      <td>NaN</td>\n",
              "      <td>Nominated</td>\n",
              "    </tr>\n",
              "    <tr>\n",
              "      <th>567</th>\n",
              "      <td>Irreplaceable</td>\n",
              "      <td>2007</td>\n",
              "      <td>Soul Train</td>\n",
              "      <td>Best R&amp;B/Soul Single – Female</td>\n",
              "      <td>Gender &amp; Race</td>\n",
              "      <td>NaN</td>\n",
              "      <td>Won</td>\n",
              "    </tr>\n",
              "    <tr>\n",
              "      <th>568</th>\n",
              "      <td>Irreplaceable</td>\n",
              "      <td>2007</td>\n",
              "      <td>Soul Train</td>\n",
              "      <td>Best R&amp;B/Soul or Rap Music Video</td>\n",
              "      <td>Video</td>\n",
              "      <td>NaN</td>\n",
              "      <td>Nominated</td>\n",
              "    </tr>\n",
              "    <tr>\n",
              "      <th>626</th>\n",
              "      <td>Irreplaceable</td>\n",
              "      <td>2007</td>\n",
              "      <td>Teen Choice</td>\n",
              "      <td>Choice Music: Payback Track</td>\n",
              "      <td>Race</td>\n",
              "      <td>NaN</td>\n",
              "      <td>Nominated</td>\n",
              "    </tr>\n",
              "  </tbody>\n",
              "</table>\n",
              "</div>"
            ],
            "text/plain": [
              "    Song Title /Album Title  Year  ... International Award     Result\n",
              "38            Irreplaceable  2008  ...                 NaN        Won\n",
              "44            Irreplaceable  2007  ...                 NaN        Won\n",
              "60            Irreplaceable  2008  ...                 NaN        Won\n",
              "93            Irreplaceable  2007  ...                 NaN        Won\n",
              "94            Irreplaceable  2007  ...                 NaN  Nominated\n",
              "298           Irreplaceable  2008  ...                 NaN  Nominated\n",
              "412           Irreplaceable  2007  ...                 NaN  Nominated\n",
              "481           Irreplaceable  2007  ...                 NaN  Nominated\n",
              "482           Irreplaceable  2007  ...                 NaN  Nominated\n",
              "521           Irreplaceable  2007  ...                 NaN        Won\n",
              "534           Irreplaceable  2008  ...                 NaN  Nominated\n",
              "567           Irreplaceable  2007  ...                 NaN        Won\n",
              "568           Irreplaceable  2007  ...                 NaN  Nominated\n",
              "626           Irreplaceable  2007  ...                 NaN  Nominated\n",
              "\n",
              "[14 rows x 7 columns]"
            ]
          },
          "metadata": {
            "tags": []
          },
          "execution_count": 123
        }
      ]
    },
    {
      "cell_type": "markdown",
      "metadata": {
        "id": "moGTC_MTcJL8"
      },
      "source": [
        "How many of the awards it was nominated for did 'Irreplaceable' win?"
      ]
    },
    {
      "cell_type": "code",
      "metadata": {
        "colab": {
          "base_uri": "https://localhost:8080/",
          "height": 303
        },
        "id": "PdVuJWSCwrCg",
        "outputId": "7ae2b4ac-10bd-40c6-8f18-34a5777437da"
      },
      "source": [
        "award_pie = pd.DataFrame({'Number of Awards': [6, 8]},\n",
        "                  index=['Won', 'Nominated'])\n",
        "plot = award_pie.plot.pie(y='Number of Awards', figsize=(5, 5))"
      ],
      "execution_count": null,
      "outputs": [
        {
          "output_type": "display_data",
          "data": {
            "image/png": "[encoded data removed]",
            "text/plain": [
              "<Figure size 360x360 with 1 Axes>"
            ]
          },
          "metadata": {
            "tags": []
          }
        }
      ]
    }
  ]
}